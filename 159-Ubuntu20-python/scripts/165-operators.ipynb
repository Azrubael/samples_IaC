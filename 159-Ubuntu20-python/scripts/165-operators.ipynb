{
 "cells": [
  {
   "cell_type": "code",
   "execution_count": 4,
   "metadata": {},
   "outputs": [
    {
     "name": "stdout",
     "output_type": "stream",
     "text": [
      "45\n",
      "585\n"
     ]
    }
   ],
   "source": [
    "# Arithmetic operators\n",
    "\n",
    "A = 20\n",
    "B = 25\n",
    "\n",
    "total = A + B\n",
    "print(total)\n",
    "\n",
    "difference = (B**2) - 2*A\n",
    "print(difference)"
   ]
  },
  {
   "cell_type": "code",
   "execution_count": 5,
   "metadata": {},
   "outputs": [
    {
     "name": "stdout",
     "output_type": "stream",
     "text": [
      "out = True\n",
      "inp = False\n"
     ]
    }
   ],
   "source": [
    "# Comparison operators\n",
    "\n",
    "Q = 45\n",
    "S = 67\n",
    "\n",
    "out = (Q < S)\n",
    "inp = (S == Q)\n",
    "\n",
    "print(f\"out = {out}\")\n",
    "print(\"inp = \" + str(inp))"
   ]
  },
  {
   "cell_type": "code",
   "execution_count": 6,
   "metadata": {},
   "outputs": [
    {
     "name": "stdout",
     "output_type": "stream",
     "text": [
      "F = 7\n"
     ]
    }
   ],
   "source": [
    "# Assignment operators\n",
    "\n",
    "C = 7\n",
    "D = 1\n",
    "\n",
    "D += 38\n",
    "C *= D\n",
    "F = C//D\n",
    "F *= C%4\n",
    "\n",
    "print(f\"F = {F}\")"
   ]
  },
  {
   "cell_type": "code",
   "execution_count": 7,
   "metadata": {},
   "outputs": [
    {
     "name": "stdout",
     "output_type": "stream",
     "text": [
      "Out1 = True\n",
      "Out2 = True\n"
     ]
    }
   ],
   "source": [
    "# Logical operators\n",
    "\n",
    "x, y = 37, 69\n",
    "\n",
    "out1= x < y and x != y\n",
    "out2 = not (x == y or x >= y)\n",
    "\n",
    "print(f\"Out1 = {out1}\")\n",
    "print(f\"Out2 = {out2}\")"
   ]
  },
  {
   "cell_type": "code",
   "execution_count": 8,
   "metadata": {},
   "outputs": [
    {
     "name": "stdout",
     "output_type": "stream",
     "text": [
      "Firsst answer is True\n",
      "Second answer is False\n"
     ]
    }
   ],
   "source": [
    "# Membership operators\n",
    "\n",
    "Skills={\"DevOps\": (\"AWS\", \"Jenkins\", \"Python\", \"Ansible\"), \"Development\":[\"Java\", \"NodeJS\", \".Net\", \"Ruby\", \"PHP\", \"Go\"]}\n",
    "first_tuple = (A, \"DevOps\", 47, out1, F, 1.5)\n",
    "\n",
    "answer = \"DevOps\" in first_tuple\n",
    "print(f\"Firsst answer is {answer}\")\n",
    "\n",
    "answer = 69 in first_tuple\n",
    "print(f\"Second answer is {answer}\")"
   ]
  },
  {
   "cell_type": "code",
   "execution_count": 14,
   "metadata": {},
   "outputs": [
    {
     "name": "stdout",
     "output_type": "stream",
     "text": [
      "True\n"
     ]
    }
   ],
   "source": [
    "# Identity operator\n",
    "\n",
    "print(Skills is not first_tuple)"
   ]
  }
 ],
 "metadata": {
  "kernelspec": {
   "display_name": "Python 3",
   "language": "python",
   "name": "python3"
  },
  "language_info": {
   "codemirror_mode": {
    "name": "ipython",
    "version": 3
   },
   "file_extension": ".py",
   "mimetype": "text/x-python",
   "name": "python",
   "nbconvert_exporter": "python",
   "pygments_lexer": "ipython3",
   "version": "3.10.12"
  },
  "orig_nbformat": 4
 },
 "nbformat": 4,
 "nbformat_minor": 2
}
